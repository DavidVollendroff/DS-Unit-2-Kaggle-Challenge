{
  "nbformat": 4,
  "nbformat_minor": 0,
  "metadata": {
    "colab": {
      "name": "Copy of assignment_kaggle_challenge_4.ipynb",
      "provenance": [],
      "collapsed_sections": [],
      "include_colab_link": true
    },
    "kernelspec": {
      "display_name": "Python 3",
      "language": "python",
      "name": "python3"
    },
    "language_info": {
      "codemirror_mode": {
        "name": "ipython",
        "version": 3
      },
      "file_extension": ".py",
      "mimetype": "text/x-python",
      "name": "python",
      "nbconvert_exporter": "python",
      "pygments_lexer": "ipython3",
      "version": "3.7.3"
    }
  },
  "cells": [
    {
      "cell_type": "markdown",
      "metadata": {
        "id": "view-in-github",
        "colab_type": "text"
      },
      "source": [
        "<a href=\"https://colab.research.google.com/github/DavidVollendroff/DS-Unit-2-Kaggle-Challenge/blob/master/module4/LS_DS_224_assignment.ipynb\" target=\"_parent\"><img src=\"https://colab.research.google.com/assets/colab-badge.svg\" alt=\"Open In Colab\"/></a>"
      ]
    },
    {
      "cell_type": "markdown",
      "metadata": {
        "id": "XcYCOIjkpmyK",
        "colab_type": "text"
      },
      "source": [
        "Lambda School Data Science\n",
        "\n",
        "*Unit 2, Sprint 2, Module 4*\n",
        "\n",
        "---"
      ]
    },
    {
      "cell_type": "markdown",
      "metadata": {
        "colab_type": "text",
        "id": "nCc3XZEyG3XV"
      },
      "source": [
        "# Classification Metrics\n",
        "\n",
        "## Assignment\n"
      ]
    },
    {
      "cell_type": "code",
      "metadata": {
        "colab_type": "code",
        "id": "lsbRiKBoB5RE",
        "colab": {}
      },
      "source": [
        "%%capture\n",
        "import sys\n",
        "\n",
        "# If you're on Colab:\n",
        "if 'google.colab' in sys.modules:\n",
        "    DATA_PATH = 'https://raw.githubusercontent.com/LambdaSchool/DS-Unit-2-Kaggle-Challenge/master/data/'\n",
        "    !pip install category_encoders==2.*\n",
        "\n",
        "# If you're working locally:\n",
        "else:\n",
        "    DATA_PATH = '../data/'"
      ],
      "execution_count": 0,
      "outputs": []
    },
    {
      "cell_type": "code",
      "metadata": {
        "colab_type": "code",
        "id": "BVA1lph8CcNX",
        "colab": {}
      },
      "source": [
        "import pandas as pd\n",
        "\n",
        "# Merge train_features.csv & train_labels.csv\n",
        "train = pd.merge(pd.read_csv(DATA_PATH+'waterpumps/train_features.csv'), \n",
        "                 pd.read_csv(DATA_PATH+'waterpumps/train_labels.csv'))\n",
        "\n",
        "# Read test_features.csv & sample_submission.csv\n",
        "test = pd.read_csv(DATA_PATH+'waterpumps/test_features.csv')\n",
        "sample_submission = pd.read_csv(DATA_PATH+'waterpumps/sample_submission.csv')"
      ],
      "execution_count": 0,
      "outputs": []
    },
    {
      "cell_type": "markdown",
      "metadata": {
        "id": "WCK-wWi534cX",
        "colab_type": "text"
      },
      "source": [
        "- [X] If you haven't yet, [review requirements for your portfolio project](https://lambdaschool.github.io/ds/unit2), then submit your dataset."
      ]
    },
    {
      "cell_type": "markdown",
      "metadata": {
        "id": "Kovev_Jh3_g_",
        "colab_type": "text"
      },
      "source": [
        "- [X] Plot a confusion matrix for your Tanzania Waterpumps model.\n"
      ]
    },
    {
      "cell_type": "code",
      "metadata": {
        "id": "cZCHhV6MiRZt",
        "colab_type": "code",
        "colab": {}
      },
      "source": [
        "# Will need to define a function to replace erroneous values with NaN values\n",
        "\n",
        "import numpy as np # \n",
        "\n",
        "def data_cleaner(X):\n",
        "  X = X.copy()\n",
        "  X['latitude'] = X['latitude'].replace(-2e-08, 0) # remove non-sense values\n",
        "  \n",
        "  # useless columns\n",
        "  X.drop(columns=['id', 'recorded_by', 'num_private', 'quantity_group'])\n",
        "  \n",
        "  # Will leave as a stretch goal zero-wrangling of greater complexity than this\n",
        "  cols_with_zeros = ['longitude', 'latitude']\n",
        "  for col in cols_with_zeros:\n",
        "      X[col] = X[col].replace(0, np.nan)\n",
        "  \n",
        "  return X"
      ],
      "execution_count": 0,
      "outputs": []
    },
    {
      "cell_type": "code",
      "metadata": {
        "id": "QEBEYZ0PBipL",
        "colab_type": "code",
        "colab": {}
      },
      "source": [
        "train = data_cleaner(train)\n",
        "test = data_cleaner(test)\n",
        "\n",
        "# Initial Feature Selection\n",
        "\n",
        "#establish the 'label'\n",
        "target = 'status_group'\n",
        "\n",
        "features = train.columns.tolist()\n",
        "\n",
        "removed_features = ['id',\n",
        "                   'recorded_by',\n",
        "                   'num_private',\n",
        "                   'quantity_group',\n",
        "                   'status_group']\n",
        "\n",
        "for item in removed_features:\n",
        "  if item in features:\n",
        "    features.remove(item)"
      ],
      "execution_count": 0,
      "outputs": []
    },
    {
      "cell_type": "code",
      "metadata": {
        "id": "rjysNyo8wkv4",
        "colab_type": "code",
        "colab": {}
      },
      "source": [
        "# features matrix and target vector \n",
        "X_train = train[features]\n",
        "y_train = train[target]\n",
        "X_test = test[features]"
      ],
      "execution_count": 0,
      "outputs": []
    },
    {
      "cell_type": "code",
      "metadata": {
        "id": "PLRdWtKlcxby",
        "colab_type": "code",
        "colab": {}
      },
      "source": [
        "# import all necessary functions for sklearn pipeline\n",
        "import category_encoders as ce\n",
        "from sklearn.impute import SimpleImputer\n",
        "from sklearn.preprocessing import StandardScaler\n",
        "from sklearn.ensemble import RandomForestClassifier\n",
        "from sklearn.pipeline import make_pipeline"
      ],
      "execution_count": 0,
      "outputs": []
    },
    {
      "cell_type": "code",
      "metadata": {
        "id": "d7029OOyeJfp",
        "colab_type": "code",
        "colab": {}
      },
      "source": [
        "# create pipeline\n",
        "pipe = make_pipeline(ce.OrdinalEncoder(),\n",
        "                         SimpleImputer(strategy='mean'),\n",
        "                         RandomForestClassifier(max_depth=20, max_features=5, n_estimators=1200))\n",
        "pipe.fit(X_train, y_train);"
      ],
      "execution_count": 0,
      "outputs": []
    },
    {
      "cell_type": "code",
      "metadata": {
        "id": "47c4Fvvu--3E",
        "colab_type": "code",
        "colab": {}
      },
      "source": [
        "from sklearn.metrics import confusion_matrix\n",
        "from sklearn.model_selection import train_test_split\n",
        "split_train, val = train_test_split(train)\n",
        "X_val = val[features]\n",
        "y_val = val[target]\n",
        "X_split = split_train[features]\n",
        "y_split = split_train[target]\n",
        "y_pred = pipe.predict(X_val)\n",
        "\n",
        "confusion_matrix(y_val, y_pred)"
      ],
      "execution_count": 0,
      "outputs": []
    },
    {
      "cell_type": "code",
      "metadata": {
        "id": "3uSzHAmCAwOR",
        "colab_type": "code",
        "colab": {}
      },
      "source": [
        "from sklearn.utils.multiclass import unique_labels\n",
        "unique_labels(y_val)"
      ],
      "execution_count": 0,
      "outputs": []
    },
    {
      "cell_type": "code",
      "metadata": {
        "id": "s52bAJ4MBpvI",
        "colab_type": "code",
        "colab": {}
      },
      "source": [
        "import seaborn as sns\n",
        "def confusion_plot(y_true, y_pred):\n",
        "  labels = unique_labels(y_val)\n",
        "  columns = [f'Predicted {label}' for label in labels]\n",
        "  index = [f'Actual {label}' for label in labels]\n",
        "  table = pd.DataFrame(confusion_matrix(y_true, y_pred),\n",
        "                       columns=columns,\n",
        "                       index=index)\n",
        "  return sns.heatmap(table, annot=True, fmt='d', cmap='viridis')\n",
        "\n",
        "confusion_plot(y_val, y_pred)\n",
        "  "
      ],
      "execution_count": 0,
      "outputs": []
    },
    {
      "cell_type": "markdown",
      "metadata": {
        "id": "Ijchqewo4EfI",
        "colab_type": "text"
      },
      "source": [
        "- [X] Continue to participate in our Kaggle challenge. Every student should have made at least one submission that scores at least 70% accuracy (well above the majority class baseline)."
      ]
    },
    {
      "cell_type": "code",
      "metadata": {
        "id": "RinpWjGPDNLS",
        "colab_type": "code",
        "colab": {}
      },
      "source": [
        "!pip install scikit-optimize\n",
        "!pip install scikit-learn==0.20.3 # newer versions incompatible with skopt"
      ],
      "execution_count": 0,
      "outputs": []
    },
    {
      "cell_type": "code",
      "metadata": {
        "id": "LciRBw1LDRz5",
        "colab_type": "code",
        "colab": {}
      },
      "source": [
        "from skopt import BayesSearchCV\n",
        "from skopt.space import Real, Categorical, Integer\n",
        "\n",
        "bayes_pipe = make_pipeline(ce.OrdinalEncoder(),\n",
        "                         SimpleImputer(strategy='median'),\n",
        "                         RandomForestClassifier())\n",
        "\n"
      ],
      "execution_count": 0,
      "outputs": []
    },
    {
      "cell_type": "code",
      "metadata": {
        "id": "9Ym82hyebtuJ",
        "colab_type": "code",
        "colab": {}
      },
      "source": [
        "param_distributions = {\n",
        "    'randomforestclassifier__n_estimators': Integer(500, 2000), \n",
        "    'randomforestclassifier__max_depth': Integer(20, 40), \n",
        "    'randomforestclassifier__max_features': Integer(1, len(features)+1), \n",
        "}"
      ],
      "execution_count": 0,
      "outputs": []
    },
    {
      "cell_type": "code",
      "metadata": {
        "id": "87MNwx2AJGjh",
        "colab_type": "code",
        "colab": {
          "base_uri": "https://localhost:8080/",
          "height": 757
        },
        "outputId": "b4c25cbc-fed6-4419-d5c2-eec04d22fdbd"
      },
      "source": [
        "search = BayesSearchCV(bayes_pipe,\n",
        "                       param_distributions,\n",
        "                       n_iter=5,\n",
        "                       verbose=10,\n",
        "                       n_jobs=-1,\n",
        "                       cv=3)\n",
        "search.fit(X_train, y_train)"
      ],
      "execution_count": 25,
      "outputs": [
        {
          "output_type": "stream",
          "text": [
            "Fitting 3 folds for each of 1 candidates, totalling 3 fits\n"
          ],
          "name": "stdout"
        },
        {
          "output_type": "stream",
          "text": [
            "[Parallel(n_jobs=-1)]: Using backend LokyBackend with 2 concurrent workers.\n",
            "[Parallel(n_jobs=-1)]: Done   3 out of   3 | elapsed:  5.3min finished\n",
            "[Parallel(n_jobs=-1)]: Done   3 out of   3 | elapsed:  5.3min remaining:    0.0s\n"
          ],
          "name": "stderr"
        },
        {
          "output_type": "stream",
          "text": [
            "Fitting 3 folds for each of 1 candidates, totalling 3 fits\n"
          ],
          "name": "stdout"
        },
        {
          "output_type": "stream",
          "text": [
            "[Parallel(n_jobs=-1)]: Using backend LokyBackend with 2 concurrent workers.\n",
            "/usr/local/lib/python3.6/dist-packages/sklearn/externals/joblib/externals/loky/process_executor.py:706: UserWarning: A worker stopped while some jobs were given to the executor. This can be caused by a too short worker timeout or by a memory leak.\n",
            "  \"timeout or by a memory leak.\", UserWarning\n",
            "[Parallel(n_jobs=-1)]: Done   3 out of   3 | elapsed:  3.7min remaining:    0.0s\n",
            "[Parallel(n_jobs=-1)]: Done   3 out of   3 | elapsed:  3.7min finished\n"
          ],
          "name": "stderr"
        },
        {
          "output_type": "stream",
          "text": [
            "Fitting 3 folds for each of 1 candidates, totalling 3 fits\n"
          ],
          "name": "stdout"
        },
        {
          "output_type": "stream",
          "text": [
            "[Parallel(n_jobs=-1)]: Using backend LokyBackend with 2 concurrent workers.\n",
            "/usr/local/lib/python3.6/dist-packages/sklearn/externals/joblib/externals/loky/process_executor.py:706: UserWarning: A worker stopped while some jobs were given to the executor. This can be caused by a too short worker timeout or by a memory leak.\n",
            "  \"timeout or by a memory leak.\", UserWarning\n",
            "[Parallel(n_jobs=-1)]: Done   3 out of   3 | elapsed: 11.7min finished\n",
            "[Parallel(n_jobs=-1)]: Done   3 out of   3 | elapsed: 11.7min remaining:    0.0s\n"
          ],
          "name": "stderr"
        },
        {
          "output_type": "stream",
          "text": [
            "Fitting 3 folds for each of 1 candidates, totalling 3 fits\n"
          ],
          "name": "stdout"
        },
        {
          "output_type": "stream",
          "text": [
            "[Parallel(n_jobs=-1)]: Using backend LokyBackend with 2 concurrent workers.\n",
            "/usr/local/lib/python3.6/dist-packages/sklearn/externals/joblib/externals/loky/process_executor.py:706: UserWarning: A worker stopped while some jobs were given to the executor. This can be caused by a too short worker timeout or by a memory leak.\n",
            "  \"timeout or by a memory leak.\", UserWarning\n",
            "[Parallel(n_jobs=-1)]: Done   3 out of   3 | elapsed: 10.2min remaining:    0.0s\n",
            "[Parallel(n_jobs=-1)]: Done   3 out of   3 | elapsed: 10.2min finished\n"
          ],
          "name": "stderr"
        },
        {
          "output_type": "stream",
          "text": [
            "Fitting 3 folds for each of 1 candidates, totalling 3 fits\n"
          ],
          "name": "stdout"
        },
        {
          "output_type": "stream",
          "text": [
            "[Parallel(n_jobs=-1)]: Using backend LokyBackend with 2 concurrent workers.\n",
            "/usr/local/lib/python3.6/dist-packages/sklearn/externals/joblib/externals/loky/process_executor.py:706: UserWarning: A worker stopped while some jobs were given to the executor. This can be caused by a too short worker timeout or by a memory leak.\n",
            "  \"timeout or by a memory leak.\", UserWarning\n",
            "[Parallel(n_jobs=-1)]: Done   3 out of   3 | elapsed: 11.5min remaining:    0.0s\n",
            "[Parallel(n_jobs=-1)]: Done   3 out of   3 | elapsed: 11.5min finished\n"
          ],
          "name": "stderr"
        },
        {
          "output_type": "execute_result",
          "data": {
            "text/plain": [
              "BayesSearchCV(cv=3, error_score='raise',\n",
              "       estimator=Pipeline(memory=None,\n",
              "     steps=[('ordinalencoder', OrdinalEncoder(cols=None, drop_invariant=False, handle_missing='value',\n",
              "        handle_unknown='value', mapping=None, return_df=True, verbose=0)), ('simpleimputer', SimpleImputer(copy=True, fill_value=None, missing_values=nan,\n",
              "       strategy='median', verbose=0)), ('random...obs=None,\n",
              "            oob_score=False, random_state=None, verbose=0,\n",
              "            warm_start=False))]),\n",
              "       fit_params=None, iid=True, n_iter=5, n_jobs=-1, n_points=1,\n",
              "       optimizer_kwargs=None, pre_dispatch='2*n_jobs', random_state=None,\n",
              "       refit=True, return_train_score=False, scoring=None,\n",
              "       search_spaces={'randomforestclassifier__n_estimators': Integer(low=500, high=2000), 'randomforestclassifier__max_depth': Integer(low=20, high=40), 'randomforestclassifier__max_features': Integer(low=1, high=37)},\n",
              "       verbose=10)"
            ]
          },
          "metadata": {
            "tags": []
          },
          "execution_count": 25
        }
      ]
    },
    {
      "cell_type": "code",
      "metadata": {
        "id": "YdEq8suvdQNh",
        "colab_type": "code",
        "outputId": "8837c0e8-1621-4f73-a61e-f8166b376206",
        "colab": {
          "base_uri": "https://localhost:8080/",
          "height": 53
        }
      },
      "source": [
        "print('Best hyperparameters', search.best_params_)\n",
        "print('Cross-validation Accuracy {:.1f}%'.format(100*search.best_score_))"
      ],
      "execution_count": 26,
      "outputs": [
        {
          "output_type": "stream",
          "text": [
            "Best hyperparameters {'randomforestclassifier__max_depth': 24, 'randomforestclassifier__max_features': 3, 'randomforestclassifier__n_estimators': 1725}\n",
            "Cross-validation Accuracy 80.7%\n"
          ],
          "name": "stdout"
        }
      ]
    },
    {
      "cell_type": "code",
      "metadata": {
        "id": "4VhSBbz5WsVN",
        "colab_type": "code",
        "colab": {}
      },
      "source": [
        "best_model = search.best_estimator_"
      ],
      "execution_count": 0,
      "outputs": []
    },
    {
      "cell_type": "markdown",
      "metadata": {
        "id": "WTb4ZqmK4JlX",
        "colab_type": "text"
      },
      "source": [
        "- [X] Submit your final predictions to our Kaggle competition. Optionally, go to **My Submissions**, and _\"you may select up to 1 submission to be used to count towards your final leaderboard score.\"_"
      ]
    },
    {
      "cell_type": "code",
      "metadata": {
        "id": "Bw5tgjIipmyc",
        "colab_type": "code",
        "colab": {}
      },
      "source": [
        "# create pipeline\n",
        "pipe = make_pipeline(ce.OrdinalEncoder(),\n",
        "                         SimpleImputer(strategy='mean'),\n",
        "                         RandomForestClassifier(max_depth=20, max_features=5, n_estimators=1200))\n",
        "pipe.fit(X_train, y_train);"
      ],
      "execution_count": 0,
      "outputs": []
    },
    {
      "cell_type": "code",
      "metadata": {
        "id": "Cqnd33r49PIh",
        "colab_type": "code",
        "colab": {}
      },
      "source": [
        "my_predictions = pipe.predict(X_test)\n",
        "sample_submission['status_group'] = my_predictions\n",
        "sample_submission.to_csv('davidvollendroff_submission.csv', index=False)"
      ],
      "execution_count": 0,
      "outputs": []
    },
    {
      "cell_type": "code",
      "metadata": {
        "id": "I0_q-iTK4Umu",
        "colab_type": "code",
        "colab": {}
      },
      "source": [
        "from google.colab import files\n",
        "files.download('davidvollendroff_submission.csv')"
      ],
      "execution_count": 0,
      "outputs": []
    },
    {
      "cell_type": "markdown",
      "metadata": {
        "id": "SWsbFz9W4ScN",
        "colab_type": "text"
      },
      "source": [
        "- [X] Commit your notebook to your fork of the GitHub repo."
      ]
    },
    {
      "cell_type": "markdown",
      "metadata": {
        "id": "juJUdj-_4brv",
        "colab_type": "text"
      },
      "source": [
        "- [X] Read [Maximizing Scarce Maintenance Resources with Data: Applying predictive modeling, precision at k, and clustering to optimize impact](https://towardsdatascience.com/maximizing-scarce-maintenance-resources-with-data-8f3491133050), by Lambda DS3 student Michael Brady. His blog post extends the Tanzania Waterpumps scenario, far beyond what's in the lecture notebook."
      ]
    }
  ]
}